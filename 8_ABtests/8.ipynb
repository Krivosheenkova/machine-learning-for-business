{
 "cells": [
  {
   "cell_type": "code",
   "execution_count": 2,
   "source": [
    "import pandas as pd\n",
    "import numpy as np\n",
    "import random\n",
    "import scipy\n",
    "import scipy as sp\n",
    "import scipy.stats as sts\n",
    "import matplotlib.pyplot as plt\n",
    "%matplotlib inline\n",
    "\n",
    "random.seed(42)"
   ],
   "outputs": [],
   "metadata": {}
  },
  {
   "cell_type": "markdown",
   "source": [
    "**Задание**\n",
    "\n",
    "Провести аналогичные исследования но для чека покупок клиентов (колонки `revenue`)  \n",
    "в интернет магазине есть 2-ва типа продуктов:\n",
    "* 100 руб.\n",
    "* 250 руб.\n",
    "\n",
    "ну и конечно клиент может ничего не купить  \n",
    "провести исследование изменился ли средний чек"
   ],
   "metadata": {}
  },
  {
   "cell_type": "code",
   "execution_count": 3,
   "source": [
    "df = pd.read_csv('ab_datas.csv')\n",
    "\n",
    "control_group = df.query(\"group == 'control'\")\n",
    "treatment_group = df.query(\"group == 'treatment'\")\n",
    "\n",
    "control_group.revenue.value_counts(), treatment_group.revenue.value_counts()\n"
   ],
   "outputs": [
    {
     "output_type": "execute_result",
     "data": {
      "text/plain": [
       "(0      73801\n",
       " 250    36867\n",
       " 100    36534\n",
       " Name: revenue, dtype: int64,\n",
       " 0      49199\n",
       " 100    49081\n",
       " 250    48996\n",
       " Name: revenue, dtype: int64)"
      ]
     },
     "metadata": {},
     "execution_count": 3
    }
   ],
   "metadata": {}
  },
  {
   "cell_type": "code",
   "execution_count": 4,
   "source": [
    "#количество сессий всего\n",
    "\n",
    "n_rows = df.shape[0]\n",
    "print(\"Число строк: {}\".format(n_rows))"
   ],
   "outputs": [
    {
     "output_type": "stream",
     "name": "stdout",
     "text": [
      "Число строк: 294478\n"
     ]
    }
   ],
   "metadata": {
    "colab": {
     "base_uri": "https://localhost:8080/"
    },
    "id": "jyudDfaq-ltY",
    "outputId": "c9435919-dbdf-4c45-d60b-dcb20a0f58f2"
   }
  },
  {
   "cell_type": "code",
   "execution_count": 5,
   "source": [
    "user_total = df.nunique()['user_id']\n",
    "print(\"Число уникальных пользователей : {}\".format(user_total))"
   ],
   "outputs": [
    {
     "output_type": "stream",
     "name": "stdout",
     "text": [
      "Число уникальных пользователей : 290584\n"
     ]
    }
   ],
   "metadata": {
    "colab": {
     "base_uri": "https://localhost:8080/"
    },
    "id": "WFa9Jd7--ltY",
    "outputId": "728d0f5c-949e-4d85-93cb-5d2a4810ae44"
   }
  },
  {
   "cell_type": "code",
   "execution_count": 6,
   "source": [
    "session_counts = df.user_id.value_counts(ascending=False)\n",
    "non_unique_users = session_counts[session_counts > 1]\n",
    "print(\"Число неуникальных вхождений user_id:\", \n",
    "      non_unique_users.count(), \n",
    "      \"или\", \n",
    "      (non_unique_users.count() / df.shape[0] * 100).round(2), \n",
    "      \"%\")"
   ],
   "outputs": [
    {
     "output_type": "stream",
     "name": "stdout",
     "text": [
      "Число неуникальных вхождений user_id: 3894 или 1.32 %\n"
     ]
    }
   ],
   "metadata": {}
  },
  {
   "cell_type": "code",
   "execution_count": 7,
   "source": [
    "mismatch_1 = df.query(\"group == 'treatment' and landing_page == 'old_page'\")\n",
    "print(\"Из тестовой группы неверно направлены {}\".format(len(mismatch_1)) + \" пользователей\")\n",
    "\n",
    "mismatch_2 = df.query(\"group == 'control' and landing_page == 'new_page'\")\n",
    "print(\"Из контрольной группы неверно направлены  {}\".format(len(mismatch_2)) + \" пользователей\")\n"
   ],
   "outputs": [
    {
     "output_type": "stream",
     "name": "stdout",
     "text": [
      "Из тестовой группы неверно направлены 1965 пользователей\n",
      "Из контрольной группы неверно направлены  1928 пользователей\n"
     ]
    }
   ],
   "metadata": {
    "colab": {
     "base_uri": "https://localhost:8080/"
    },
    "id": "BmE8wUnS-ltY",
    "outputId": "d1f3bf07-dae9-4f5d-9d9f-c05f4caf75ff"
   }
  },
  {
   "cell_type": "code",
   "execution_count": 8,
   "source": [
    "print(\"Средняя покупка по всему датасету: %.3f \" % (df.revenue.mean()))"
   ],
   "outputs": [
    {
     "output_type": "stream",
     "name": "stdout",
     "text": [
      "Средняя покупка по всему датасету: 101.968 \n"
     ]
    }
   ],
   "metadata": {}
  },
  {
   "cell_type": "code",
   "execution_count": 9,
   "source": [
    "print(f\"Средний чек по контрольной группе: {control_group.revenue.mean().round(3)}\\nСредний чек по тестовой группе: {treatment_group.revenue.mean().round(3)}\")"
   ],
   "outputs": [
    {
     "output_type": "stream",
     "name": "stdout",
     "text": [
      "Средний чек по контрольной группе: 87.432\n",
      "Средний чек по тестовой группе: 116.496\n"
     ]
    }
   ],
   "metadata": {}
  },
  {
   "cell_type": "code",
   "execution_count": 10,
   "source": [
    "print(\"Доля нулевых чеков в контрольной группе: %.3f\" % (control_group[control_group.revenue == 0].revenue.count() / control_group.shape[0]))\n",
    "print(\"Доля нулевых чеков в тестовой группе: %.3f\" % (treatment_group[treatment_group.revenue == 0].revenue.count() / treatment_group.shape[0]))"
   ],
   "outputs": [
    {
     "output_type": "stream",
     "name": "stdout",
     "text": [
      "Доля нулевых чеков в контрольной группе: 0.501\n",
      "Доля нулевых чеков в тестовой группе: 0.334\n"
     ]
    }
   ],
   "metadata": {}
  },
  {
   "cell_type": "code",
   "execution_count": 11,
   "source": [
    "print(\"Доля ненулевых чеков в контрольной группе: %.3f\" % (control_group[control_group.revenue > 0].revenue.count() / control_group.shape[0]))\n",
    "print(\"Доля ненулевых чеков в тестовой группе: %.3f\" % (treatment_group[treatment_group.revenue > 0].revenue.count() / treatment_group.shape[0]))"
   ],
   "outputs": [
    {
     "output_type": "stream",
     "name": "stdout",
     "text": [
      "Доля ненулевых чеков в контрольной группе: 0.499\n",
      "Доля ненулевых чеков в тестовой группе: 0.666\n"
     ]
    }
   ],
   "metadata": {}
  },
  {
   "cell_type": "code",
   "execution_count": 12,
   "source": [
    "val_counts = (control_group.revenue.value_counts() / control_group.shape[0])[1:]\n",
    "print(\"Доли значений чеков в контрольной группе: \\n100: %.3f\\n250: %.3f\" % (val_counts[100], val_counts[250]))"
   ],
   "outputs": [
    {
     "output_type": "stream",
     "name": "stdout",
     "text": [
      "Доли значений чеков в контрольной группе: \n",
      "100: 0.248\n",
      "250: 0.250\n"
     ]
    }
   ],
   "metadata": {}
  },
  {
   "cell_type": "code",
   "execution_count": 13,
   "source": [
    "val_counts = (treatment_group.revenue.value_counts() / treatment_group.shape[0])[1:]\n",
    "print(\"Доли значений чеков в контрольной группе: \\n100: %.3f\\n250: %.3f\" % (val_counts[100], val_counts[250]))"
   ],
   "outputs": [
    {
     "output_type": "stream",
     "name": "stdout",
     "text": [
      "Доли значений чеков в контрольной группе: \n",
      "100: 0.333\n",
      "250: 0.333\n"
     ]
    }
   ],
   "metadata": {}
  },
  {
   "cell_type": "code",
   "execution_count": 14,
   "source": [
    "print(\"Соотношение размеров тестовой и контрольной групп: %.3f\" % (treatment_group.shape[0]/control_group.shape[0]))\n",
    "n_rows = df.shape[0]\n",
    "print(\"Вероятность, что новый пользователь будет направлен на версию со старым дизайном: {}\".format(control_group.shape[0]/n_rows))\n",
    "print(\"Вероятность, что новый пользователь будет направлен на версию с новым дизайном: {}\".format(treatment_group.shape[0]/n_rows))"
   ],
   "outputs": [
    {
     "output_type": "stream",
     "name": "stdout",
     "text": [
      "Соотношение размеров тестовой и контрольной групп: 1.001\n",
      "Вероятность, что новый пользователь будет направлен на версию со старым дизайном: 0.49987435394155083\n",
      "Вероятность, что новый пользователь будет направлен на версию с новым дизайном: 0.5001256460584492\n"
     ]
    }
   ],
   "metadata": {}
  },
  {
   "cell_type": "markdown",
   "source": [
    "**Часть посетителей, которые попали в обе группы в разное время**"
   ],
   "metadata": {}
  },
  {
   "cell_type": "code",
   "execution_count": 15,
   "source": [
    "cols = ['user_id', 'group', 'revenue', 'landing_page']\n",
    "both_grps_entr = control_group[cols].merge(treatment_group[cols], right_on='user_id', left_on='user_id', suffixes=['_control', '_treatment'])\n",
    "\n",
    "print('Число посетителей, появляющихся в обеих группах:', both_grps_entr.shape[0])\n",
    "print(\"По данной подвыборке видно, что 1865 пользователей увидели ту же страницу, что была раньше, при том, что некоторые пользователи определены в неправильные группы:\")\n",
    "both_grps_entr[both_grps_entr.landing_page_control == both_grps_entr.landing_page_treatment].head(10)"
   ],
   "outputs": [
    {
     "output_type": "stream",
     "name": "stdout",
     "text": [
      "Число посетителей, появляющихся в обеих группах: 1895\n",
      "По данной подвыборке видно, что 1865 пользователей увидели ту же страницу, что была раньше, при том, что некоторые пользователи определены в неправильные группы:\n"
     ]
    },
    {
     "output_type": "execute_result",
     "data": {
      "text/html": [
       "<div>\n",
       "<style scoped>\n",
       "    .dataframe tbody tr th:only-of-type {\n",
       "        vertical-align: middle;\n",
       "    }\n",
       "\n",
       "    .dataframe tbody tr th {\n",
       "        vertical-align: top;\n",
       "    }\n",
       "\n",
       "    .dataframe thead th {\n",
       "        text-align: right;\n",
       "    }\n",
       "</style>\n",
       "<table border=\"1\" class=\"dataframe\">\n",
       "  <thead>\n",
       "    <tr style=\"text-align: right;\">\n",
       "      <th></th>\n",
       "      <th>user_id</th>\n",
       "      <th>group_control</th>\n",
       "      <th>revenue_control</th>\n",
       "      <th>landing_page_control</th>\n",
       "      <th>group_treatment</th>\n",
       "      <th>revenue_treatment</th>\n",
       "      <th>landing_page_treatment</th>\n",
       "    </tr>\n",
       "  </thead>\n",
       "  <tbody>\n",
       "    <tr>\n",
       "      <th>0</th>\n",
       "      <td>767017</td>\n",
       "      <td>control</td>\n",
       "      <td>0</td>\n",
       "      <td>new_page</td>\n",
       "      <td>treatment</td>\n",
       "      <td>250</td>\n",
       "      <td>new_page</td>\n",
       "    </tr>\n",
       "    <tr>\n",
       "      <th>1</th>\n",
       "      <td>733976</td>\n",
       "      <td>control</td>\n",
       "      <td>250</td>\n",
       "      <td>new_page</td>\n",
       "      <td>treatment</td>\n",
       "      <td>100</td>\n",
       "      <td>new_page</td>\n",
       "    </tr>\n",
       "    <tr>\n",
       "      <th>2</th>\n",
       "      <td>670052</td>\n",
       "      <td>control</td>\n",
       "      <td>0</td>\n",
       "      <td>old_page</td>\n",
       "      <td>treatment</td>\n",
       "      <td>100</td>\n",
       "      <td>old_page</td>\n",
       "    </tr>\n",
       "    <tr>\n",
       "      <th>3</th>\n",
       "      <td>867227</td>\n",
       "      <td>control</td>\n",
       "      <td>100</td>\n",
       "      <td>old_page</td>\n",
       "      <td>treatment</td>\n",
       "      <td>250</td>\n",
       "      <td>old_page</td>\n",
       "    </tr>\n",
       "    <tr>\n",
       "      <th>4</th>\n",
       "      <td>808613</td>\n",
       "      <td>control</td>\n",
       "      <td>250</td>\n",
       "      <td>new_page</td>\n",
       "      <td>treatment</td>\n",
       "      <td>100</td>\n",
       "      <td>new_page</td>\n",
       "    </tr>\n",
       "    <tr>\n",
       "      <th>5</th>\n",
       "      <td>859503</td>\n",
       "      <td>control</td>\n",
       "      <td>100</td>\n",
       "      <td>old_page</td>\n",
       "      <td>treatment</td>\n",
       "      <td>250</td>\n",
       "      <td>old_page</td>\n",
       "    </tr>\n",
       "    <tr>\n",
       "      <th>6</th>\n",
       "      <td>637639</td>\n",
       "      <td>control</td>\n",
       "      <td>100</td>\n",
       "      <td>new_page</td>\n",
       "      <td>treatment</td>\n",
       "      <td>100</td>\n",
       "      <td>new_page</td>\n",
       "    </tr>\n",
       "    <tr>\n",
       "      <th>7</th>\n",
       "      <td>646342</td>\n",
       "      <td>control</td>\n",
       "      <td>0</td>\n",
       "      <td>new_page</td>\n",
       "      <td>treatment</td>\n",
       "      <td>100</td>\n",
       "      <td>new_page</td>\n",
       "    </tr>\n",
       "    <tr>\n",
       "      <th>8</th>\n",
       "      <td>735021</td>\n",
       "      <td>control</td>\n",
       "      <td>0</td>\n",
       "      <td>new_page</td>\n",
       "      <td>treatment</td>\n",
       "      <td>250</td>\n",
       "      <td>new_page</td>\n",
       "    </tr>\n",
       "    <tr>\n",
       "      <th>9</th>\n",
       "      <td>678638</td>\n",
       "      <td>control</td>\n",
       "      <td>250</td>\n",
       "      <td>new_page</td>\n",
       "      <td>treatment</td>\n",
       "      <td>250</td>\n",
       "      <td>new_page</td>\n",
       "    </tr>\n",
       "  </tbody>\n",
       "</table>\n",
       "</div>"
      ],
      "text/plain": [
       "   user_id group_control  revenue_control landing_page_control  \\\n",
       "0   767017       control                0             new_page   \n",
       "1   733976       control              250             new_page   \n",
       "2   670052       control                0             old_page   \n",
       "3   867227       control              100             old_page   \n",
       "4   808613       control              250             new_page   \n",
       "5   859503       control              100             old_page   \n",
       "6   637639       control              100             new_page   \n",
       "7   646342       control                0             new_page   \n",
       "8   735021       control                0             new_page   \n",
       "9   678638       control              250             new_page   \n",
       "\n",
       "  group_treatment  revenue_treatment landing_page_treatment  \n",
       "0       treatment                250               new_page  \n",
       "1       treatment                100               new_page  \n",
       "2       treatment                100               old_page  \n",
       "3       treatment                250               old_page  \n",
       "4       treatment                100               new_page  \n",
       "5       treatment                250               old_page  \n",
       "6       treatment                100               new_page  \n",
       "7       treatment                100               new_page  \n",
       "8       treatment                250               new_page  \n",
       "9       treatment                250               new_page  "
      ]
     },
     "metadata": {},
     "execution_count": 15
    }
   ],
   "metadata": {}
  },
  {
   "cell_type": "code",
   "execution_count": 18,
   "source": [
    "import seaborn as sns\n",
    "# sales by date\n",
    "df1 = df.copy()\n",
    "df1.timestamp = pd.to_datetime(df1.timestamp)\n",
    "df1 = df1[['timestamp', 'group', 'revenue']].sort_values(by=['timestamp'])\n",
    "\n",
    "df1['date'] = pd.to_datetime(df1.timestamp).dt.date\n",
    "\n",
    "control, treatment = df1.query(\"group == 'control'\"), df1.query(\"group == 'treatment'\")\n",
    "\n",
    "control_revenue_by_date = control.groupby('date').mean().reset_index()\n",
    "treatment_revenue_by_date = treatment.groupby('date').mean().reset_index()\n",
    "\n",
    "# plot mean revenues by group and date\n",
    "plt.figure(figsize=(20, 8))\n",
    "\n",
    "sns.lineplot(data=control_revenue_by_date, \n",
    "             x=control_revenue_by_date.date, \n",
    "             y=control_revenue_by_date.revenue,\n",
    "             label='control');\n",
    "             \n",
    "sns.lineplot(data=treatment_revenue_by_date, \n",
    "             x=treatment_revenue_by_date.date, \n",
    "             y=treatment_revenue_by_date.revenue, \n",
    "             label='treatment');\n",
    "\n",
    "plt.legend();"
   ],
   "outputs": [
    {
     "output_type": "display_data",
     "data": {
      "image/png": "[encoded data removed]",
      "text/plain": [
       "<Figure size 1440x576 with 1 Axes>"
      ]
     },
     "metadata": {
      "needs_background": "light"
     }
    }
   ],
   "metadata": {}
  },
  {
   "cell_type": "markdown",
   "source": [
    "**Задание**\n",
    "\n",
    "А теперь ответьте на главный вопрос данного этапа:  выявил ли предварительный анализ, что дизайн кнопки влияет на конверсию и если да, то как именно?"
   ],
   "metadata": {
    "id": "ORB7gHw3-lta"
   }
  },
  {
   "cell_type": "markdown",
   "source": [
    "_Показатели средних чеков по группам отличаются - группа пользователей, которые взаимодействовали с новым дизайном, в среднем тратила больше._"
   ],
   "metadata": {}
  },
  {
   "cell_type": "markdown",
   "source": [
    "**Формулировка рабочей гипотезы**\n",
    "\n",
    "Средний чек в группе со старым дизайном не меньше, чем с новым.\n",
    "\n",
    "$H_{0}$ : $\\theta_{new}$ <= $\\theta_{old}$ \n",
    "\n",
    "$H_{1}$ : $\\theta_{new}$ > $\\theta_{old}$ "
   ],
   "metadata": {}
  },
  {
   "cell_type": "markdown",
   "source": [
    "**Z-test и доверительные интервалы**"
   ],
   "metadata": {}
  },
  {
   "cell_type": "code",
   "execution_count": 19,
   "source": [
    "import statsmodels.api as sm\n",
    "import statsmodels\n",
    "\n",
    "treat_mask = treatment_group.revenue.mask(treatment_group.revenue>0, 1)\n",
    "ctrl_mask = control_group.revenue.mask(control_group.revenue>0, 1)\n",
    "\n",
    "\n",
    "successes = [treat_mask.sum(), ctrl_mask.sum()]\n",
    "n_obs = [treatment_group.shape[0], control_group.shape[0]]\n",
    "\n",
    "z_score, p_value = sm.stats.proportions_ztest(successes, \n",
    "                                              nobs=n_obs, \n",
    "                                              alternative='larger')\n",
    "\n",
    "(lower_contr, lower_treat), (upper_contr, upper_treat) = sm.stats.proportion_confint(successes, nobs=n_obs, alpha=0.05)\n",
    "\n",
    "print(\"Z-статистика={}, p_value={}\".format(z_score, p_value))\n",
    "\n",
    "print('Доверительный интервал 95% для контрольной выборки: {}'.format((lower_contr.round(3), upper_contr.round(3))))\n",
    "print('Доверительный интервал 95% для тестовой выборки: {}'.format((lower_treat.round(3), upper_treat.round(3))))"
   ],
   "outputs": [
    {
     "output_type": "stream",
     "name": "stdout",
     "text": [
      "Z-статистика=92.04185904290561, p_value=0.0\n",
      "Доверительный интервал 95% для контрольной выборки: (0.664, 0.668)\n",
      "Доверительный интервал 95% для тестовой выборки: (0.496, 0.501)\n"
     ]
    }
   ],
   "metadata": {}
  },
  {
   "cell_type": "markdown",
   "source": [
    "**T-test**"
   ],
   "metadata": {}
  },
  {
   "cell_type": "code",
   "execution_count": 28,
   "source": [
    "t_score, p_value, _ = statsmodels.stats.weightstats.ttest_ind(treat_mask,\n",
    "                                                              ctrl_mask,\n",
    "                                                              alternative=\"larger\",\n",
    "                                                              usevar='unequal')\n",
    "\n",
    "print(\"T-статистика={},  p_value={}\".format(t_score, p_value))"
   ],
   "outputs": [
    {
     "output_type": "stream",
     "name": "stdout",
     "text": [
      "T-статистика=93.3933980918586,  p_value=0.0\n"
     ]
    }
   ],
   "metadata": {}
  },
  {
   "cell_type": "markdown",
   "source": [
    "#### Проведение вычислений. Mann–Whitney-test."
   ],
   "metadata": {}
  },
  {
   "cell_type": "code",
   "execution_count": 30,
   "source": [
    "w_score, p_value = scipy.stats.mannwhitneyu(treat_mask, \n",
    "                                            ctrl_mask,\n",
    "                                            alternative=\"greater\")\n",
    "print(\"W-статистика={},  p_value={}\".format(w_score, p_value))"
   ],
   "outputs": [
    {
     "output_type": "stream",
     "name": "stdout",
     "text": [
      "W-статистика=12653123315.0,  p_value=0.0\n"
     ]
    }
   ],
   "metadata": {}
  },
  {
   "cell_type": "markdown",
   "source": [
    "**Выводы по результатам статистических тестов:**\n",
    "\n",
    "Ранее был выбран порог $\\alpha$ = 0.05, размер датасета достаточный, чтобы статистические метрики сошлись на одном и том же значении p_value: 0.0, что позволяет отвергнуть нулевую гипотезу - значит, дизайн кнопки действительно повлиял на средний чек в положительную сторону."
   ],
   "metadata": {}
  },
  {
   "cell_type": "markdown",
   "source": [
    "**Bootstrap**"
   ],
   "metadata": {}
  },
  {
   "cell_type": "code",
   "execution_count": 32,
   "source": [
    "from sklearn.utils import resample\n",
    "\n",
    "a = ctrl_mask.values\n",
    "b = treat_mask.values \n",
    "\n",
    "a_means, b_means = [], []\n",
    "\n",
    "for _ in range(10000):\n",
    "    a_boot = resample(a, replace=True, n_samples=len(a))\n",
    "    b_boot = resample(b, replace=True, n_samples=len(b))\n",
    "\n",
    "    a_means.append(a_boot.mean())\n",
    "    b_means.append(b_boot.mean())"
   ],
   "outputs": [],
   "metadata": {}
  },
  {
   "cell_type": "code",
   "execution_count": 39,
   "source": [
    "plt.figure(figsize=(16, 8))\n",
    "plt.hist(a_means, label='A conv', alpha=0.5, bins=100)\n",
    "plt.hist(b_means, label='B conv', alpha=0.5, bins=100)\n",
    "\n",
    "plt.legend()\n",
    "plt.show()"
   ],
   "outputs": [
    {
     "output_type": "display_data",
     "data": {
      "image/png": "[encoded data removed]",
      "text/plain": [
       "<Figure size 1152x576 with 1 Axes>"
      ]
     },
     "metadata": {
      "needs_background": "light"
     }
    }
   ],
   "metadata": {}
  },
  {
   "cell_type": "code",
   "execution_count": 40,
   "source": [
    "plt.hist(np.array(a_means) - np.array(b_means), bins=100)\n",
    "plt.show();"
   ],
   "outputs": [
    {
     "output_type": "display_data",
     "data": {
      "image/png": "[encoded data removed]",
      "text/plain": [
       "<Figure size 432x288 with 1 Axes>"
      ]
     },
     "metadata": {
      "needs_background": "light"
     }
    }
   ],
   "metadata": {}
  },
  {
   "cell_type": "code",
   "execution_count": 35,
   "source": [
    "dff = np.array(a_means) - np.array(b_means)\n",
    "\n",
    "len(dff[dff>=0])/len(dff)"
   ],
   "outputs": [
    {
     "output_type": "execute_result",
     "data": {
      "text/plain": [
       "0.0"
      ]
     },
     "metadata": {},
     "execution_count": 35
    }
   ],
   "metadata": {}
  },
  {
   "cell_type": "markdown",
   "source": [
    "Без сомнений, различия оказались статистически значимыми."
   ],
   "metadata": {}
  }
 ],
 "metadata": {
  "orig_nbformat": 4,
  "language_info": {
   "name": "python",
   "version": "3.9.7",
   "mimetype": "text/x-python",
   "codemirror_mode": {
    "name": "ipython",
    "version": 3
   },
   "pygments_lexer": "ipython3",
   "nbconvert_exporter": "python",
   "file_extension": ".py"
  },
  "kernelspec": {
   "name": "python3",
   "display_name": "Python 3.9.7 64-bit"
  },
  "interpreter": {
   "hash": "e7370f93d1d0cde622a1f8e1c04877d8463912d04d973331ad4851f04de6915a"
  }
 },
 "nbformat": 4,
 "nbformat_minor": 2
}